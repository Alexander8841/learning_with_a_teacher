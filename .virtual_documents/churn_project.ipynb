











import pandas as pd
import numpy as np
import matplotlib.pyplot as plt
from sklearn.metrics import f1_score, roc_auc_score, roc_curve, precision_score, recall_score, accuracy_score
from sklearn.pipeline import Pipeline
from sklearn.model_selection import train_test_split, cross_val_predict, cross_val_score, GridSearchCV
from sklearn.preprocessing import OneHotEncoder, StandardScaler
from sklearn.compose import ColumnTransformer
from sklearn.impute import SimpleImputer
from sklearn.ensemble import RandomForestClassifier
from imblearn.over_sampling import SMOTE


data = pd.read_csv('datasets/Churn.csv')
data.head()





data.drop('RowNumber', axis=1, inplace=True);


data.shape


data.info()





data.Tenure = data.Tenure.fillna(data.Tenure.mode()[0])
data.Tenure.value_counts()





numeric_columns = data.select_dtypes(include='number').drop(['Exited', 'CustomerId'], axis=1).columns
numeric_columns


for i in numeric_columns:
    data[i].hist(bins=data[i].nunique()//50 + 10)
    plt.title(i)
    plt.show()








features_train, features_temp, target_train, target_temp = train_test_split(
    data.drop('Exited', axis=1), 
    data.Exited, 
    stratify=data.Exited,
    test_size=0.4,
    random_state=12345
)
features_valid, features_test, target_valid, target_test = train_test_split(
    features_temp, 
    target_temp, 
    stratify=target_temp,
    test_size=0.5,
    random_state=12345
)
target_train.value_counts(), target_valid.value_counts(), target_test.value_counts();





categorical_columns = ['Geography', 'Gender']


features_train.columns


preprocessor = ColumnTransformer([
    ('num', StandardScaler(), numeric_columns),
    ('cat', OneHotEncoder(drop='first', handle_unknown='error', min_frequency=0.005), categorical_columns)
])
features_train_transformed = preprocessor.fit_transform(features_train)
features_valid_transformed = preprocessor.transform(features_valid)
features_test_transformed = preprocessor.transform(features_test)





tree_model = RandomForestClassifier(n_estimators=160, max_depth=10, random_state=12345, class_weight='balanced')
tree_model.fit(features_train_transformed, target_train)
predicted_valid = tree_model.predict(features_valid_transformed)
probs_valid = tree_model.predict_proba(features_valid_transformed)[:, 1]
f1_score(target_valid, predicted_valid)


roc_auc_score(target_valid, probs_valid)


precision_score(target_valid, predicted_valid), recall_score(target_valid, predicted_valid)


pd.Series(predicted_valid).value_counts()





best_th = 0
best_f1 = 0
for th in np.arange(0.1, 0.55, 0.05):
    predicted_custom = probs_valid > th
    f1 = f1_score(target_valid, predicted_custom)
    if f1 > best_f1:
        best_f1 = f1
        best_th = th
    print(f'threshold: {th}, f1: {f1}')


best_f1, best_th





tpr, fpr, threshold = roc_curve(target_valid, probs_valid)
plt.figure()
plt.plot([0, 1], [0, 1], linestyle='--')
plt.plot(tpr, fpr)
plt.xlabel('False Positive Rate')
plt.ylabel('True Positive Rate')
plt.title('ROC-кривая')





from sklearn.metrics import precision_recall_curve
import matplotlib.pyplot as plt

precision, recall, thresholds = precision_recall_curve(target_valid, probs_valid)

plt.figure(figsize=(8, 6))
plt.plot(thresholds, precision[:-1], label='Precision', color='blue')
plt.plot(thresholds, recall[:-1], label='Recall', color='green')
plt.xlabel('Threshold')
plt.ylabel('Score')
plt.title('Precision-Recall vs Threshold')
plt.legend()
plt.grid(True)
plt.show()





features_transformed = preprocessor.fit_transform(data.drop('Exited', axis=1))
predicted_cv = cross_val_predict(tree_model, features_transformed, data.Exited)
f1_score(data.Exited, predicted_cv)


cross_val_score(tree_model, features_transformed, data.Exited, scoring='f1').mean()





smote = SMOTE(random_state=12345)
features_resampled, target_resampled = smote.fit_resample(features_train_transformed, target_train)
target_resampled.value_counts()


tree_model_smote = RandomForestClassifier(n_estimators=160, max_depth=10, random_state=12345)
tree_model_smote.fit(features_resampled, target_resampled)
predicted_valid_smote = tree_model_smote.predict(features_valid_transformed)
probs_valid_smote = tree_model_smote.predict_proba(features_valid_transformed)[:, 1]
f1_score(target_valid, predicted_valid_smote)


roc_auc_score(target_valid, probs_valid_smote)


precision_score(target_valid, predicted_valid_smote), recall_score(target_valid, predicted_valid_smote)


pd.Series(predicted_valid_smote).value_counts()











f1_score(target_test, tree_model.predict(features_test_transformed))


f1_score(target_test, tree_model_smote.predict(features_test_transformed))












